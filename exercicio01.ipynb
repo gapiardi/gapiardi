{
 "cells": [
  {
   "attachments": {},
   "cell_type": "markdown",
   "metadata": {},
   "source": [
    "1) Escolha um número entre 1 e 10 e armazene ele numa variável chamada *segredo*. Escolha outro número entre 1 e 10 novamente e salve ele numa variável chamada *chute*. Depois, escreva testes condicionais usando *if*, *else* e *elif* para exibir a mensagem \"muito menor\" se *chute* é menor do que *segredo*, \"muito maior\" se *chute* é maior do que *segredo* e \"na mosca\" se *chute* for igual à *segredo*."
   ]
  },
  {
   "cell_type": "code",
   "execution_count": 1,
   "metadata": {},
   "outputs": [
    {
     "name": "stdout",
     "output_type": "stream",
     "text": [
      "muito maior\n"
     ]
    }
   ],
   "source": [
    "segredo = 5\n",
    "chute = 10\n",
    "\n",
    "if chute < segredo : \n",
    "    print(\"muito menor\")\n",
    "elif chute > segredo :  \n",
    "    print (\"muito maior\")\n",
    "else: \n",
    "    print (\"na mosca\")"
   ]
  },
  {
   "attachments": {},
   "cell_type": "markdown",
   "metadata": {},
   "source": [
    "2) Escreva uma cadeia de instrucões *if*-*elif*-*else* que determine o estágio da vida de uma pessoa. Defina um valor para a variável *idade* e então:\n",
    "- Se a pessoa tiver menos de 2 anos de idade, mostre uma mensagem dizendo que ela ainda é um bebê.\n",
    "- Se a pessoa tiver pelo menos 2 anos, mas menos de 4, mostre uma mensagem dizendo que ela é uma crianca.\n",
    "- Se a pessoa tiver pelo menos 4 anos, mas menos de 13, mostre uma mensagem dizendo que ela é um(a) goroto(a).\n",
    "- Se a pessoa tiver pelo menos 13 anos, mas menos de 20, mostre uma mensagem dizendo que ela é um(a) adolescente.\n",
    "- Se a pessoa tiver pelo menos 20 anos, mas menos de 65, mostre uma mensagem dizendo que ela é um(a) adulto(a).\n",
    "- Se a pessoa tiver 65 anos ou mais, mostre uma mensagem dizendo que ela é uma pessoa idosa."
   ]
  },
  {
   "cell_type": "code",
   "execution_count": 2,
   "metadata": {},
   "outputs": [
    {
     "name": "stdout",
     "output_type": "stream",
     "text": [
      "A pessoa é um(a) adulto(a)\n"
     ]
    }
   ],
   "source": [
    "idade = int(input(\"Qual a sua idade? \"))\n",
    "if idade < 2:\n",
    "    print(\"A pessoa ainda é um bebê\")\n",
    "elif idade >= 2 and idade < 4:\n",
    "    print(\"A pessoa é uma criança\")\n",
    "elif idade >= 4 and idade < 13:\n",
    "    print(\"A pessoa é um(a) garoto(a)\")\n",
    "elif idade >= 13 and idade < 20:\n",
    "    print(\"A pessoa é um(a) adolescente\")\n",
    "elif idade >= 20 and idade < 65:\n",
    "    print(\"A pessoa é um(a) adulto(a)\")\n",
    "else:\n",
    "    print(\"A pessoa é um(a) idoso(a)\")"
   ]
  },
  {
   "attachments": {},
   "cell_type": "markdown",
   "metadata": {},
   "source": [
    "3) Crie uma lista com cinco ou mais nomes de usuários, incluindo o nome \"admin\". Suponha que você esteja escrevendo um código que exibirá uma saudacão a cada usuário depois que eles fizerem login em um site. Percorra a lista com um laco e mostre uma saudacão para cada usuário:\n",
    "- Se o nome do usuário for \"admin\", mostre uma saudacão especial, por exemplo, \"Olá admin, gostaria de ver o relatório de status?\"\n",
    "- Caso contrário, mostre a saudacão genérica, como \"Olá José, obrigado por fazer login novamente\"."
   ]
  },
  {
   "cell_type": "code",
   "execution_count": 4,
   "metadata": {},
   "outputs": [
    {
     "name": "stdout",
     "output_type": "stream",
     "text": [
      "Bom Dia Maria\n",
      "Bom Dia Carol\n",
      "Olá admin, gostaria de ver o relatório de status?\n",
      "Bom Dia Carlos\n",
      "Bom Dia Pedro\n"
     ]
    }
   ],
   "source": [
    "lista = ['Maria','Carol','admin','Carlos','Pedro']\n",
    "\n",
    "for lista in lista:\n",
    "    if lista =='admin':\n",
    "        print(\"Olá admin, gostaria de ver o relatório de status?\")\n",
    "    else:\n",
    "        print('Bom Dia {}'.format(lista))"
   ]
  },
  {
   "attachments": {},
   "cell_type": "markdown",
   "metadata": {},
   "source": [
    "4) A partir do exercício anterior, modifique o código criado para acrescentar um teste if que verifica se a lista de usuarios está vazia.\n",
    "- Se a lista de usuários estiver vazia, mostre a mensagem \"Precisamos encontrar alguns usuários!\". Remova todos os nomes de usuários da lista e certifique-se de que essa mensagem aparecerá."
   ]
  },
  {
   "cell_type": "code",
   "execution_count": 5,
   "metadata": {},
   "outputs": [
    {
     "name": "stdout",
     "output_type": "stream",
     "text": [
      "Precisamos encontrar alguns usuários!\n"
     ]
    }
   ],
   "source": [
    "lista = []\n",
    "\n",
    "if len(lista) == 0 :\n",
    "    print(\"Precisamos encontrar alguns usuários!\")\n",
    "else:\n",
    "    for l in lista:\n",
    "        if  l =='admin':\n",
    "            print(\"Olá admin, gostaria de ver o relatório de status?\")\n",
    "        else:\n",
    "            print('Bom Dia {}'.format(l))\n",
    "        "
   ]
  },
  {
   "attachments": {},
   "cell_type": "markdown",
   "metadata": {},
   "source": [
    "5) Crie um programa que simule o modo como os sites garantem que todos tenham um nome de usuário único.\n",
    "- Crie uma lista chamada *current_users* com cinco ou mais nomes de usuários\n",
    "- Crie uma list chamada *new_users* com cinco nomes de usuários. Garanta que dois dos novos usuários também estejam na lista *current_users*\n",
    "- Percorra a lista *new_users* com um laco para ver se cada novo nome de usuário já foi usado. Em caso afirmativo, mostre uma mensagem afirmando que a pessoa deverá fornecer um novo nome. Se um usuário não foi usado, apresente uma mensagem dizendo que o nome do usuário está disponível.\n",
    "- Certifique-se de que sua comparacão não levará em conta as diferencas entre letras maiúsculas e minúsculas. Se \"Pedro\" foi usado, \"PEDRO\" não deverá ser aceito."
   ]
  },
  {
   "cell_type": "code",
   "execution_count": 7,
   "metadata": {},
   "outputs": [
    {
     "name": "stdout",
     "output_type": "stream",
     "text": [
      "Usuário já existe. Você deve fornecer um novo nome\n",
      "Usuário disponível\n",
      "Usuário disponível\n",
      "Usuário disponível\n",
      "Usuário já existe. Você deve fornecer um novo nome\n"
     ]
    }
   ],
   "source": [
    "current_users = ['Maria','Carol','Bia','Carlos','Pedro']\n",
    "current_users = [y.lower() for y in current_users]\n",
    "\n",
    "new_users = ['Maria','Bruna','joão','Paula','pedro']\n",
    "new_users = [x.lower() for x in new_users]\n",
    "\n",
    "for current_users, new_users in  zip(current_users, new_users):\n",
    "    if new_users == current_users:\n",
    "        print(\"Usuário já existe. Você deve fornecer um novo nome\")\n",
    "    else:\n",
    "        print(\"Usuário disponível\")"
   ]
  },
  {
   "attachments": {},
   "cell_type": "markdown",
   "metadata": {},
   "source": [
    "6) Números ordinais indicam sua posicão em uma lista, por exemplo, 1st, 2nd, em inglês. A maioria dos números ordinais nessa língua termina com th, exceto, 1, 2 e 3.\n",
    "- Armazene os números de 1 a 9 em uma lista.\n",
    "- Pecorra essa lista com um laco.\n",
    "- Use uma cadeia de instrucões *if*-*elif*-*else* que exiba a terminacão apropriada para cada número ordinal. Sua saída deverá conter \"1st 2nd 3rd 4th 5th 6th 7th 8th 9th\" e cada resultado deve estar em uma linha separada"
   ]
  },
  {
   "cell_type": "code",
   "execution_count": 8,
   "metadata": {},
   "outputs": [
    {
     "name": "stdout",
     "output_type": "stream",
     "text": [
      "1st\n",
      "2nd\n",
      "3rd\n",
      "4 th\n",
      "5 th\n",
      "6 th\n",
      "7 th\n",
      "8 th\n",
      "9 th\n"
     ]
    }
   ],
   "source": [
    "ordinais = [1,2,3,4,5,6,7,8,9]\n",
    "for ordinais in ordinais:\n",
    "    if ordinais == 1:\n",
    "        print(\"1st\")\n",
    "    elif ordinais == 2:\n",
    "        print(\"2nd\")\n",
    "    elif ordinais == 3:\n",
    "        print(\"3rd\")\n",
    "    else:\n",
    "        print(ordinais,\"th\")"
   ]
  }
 ],
 "metadata": {
  "kernelspec": {
   "display_name": "Python 3",
   "language": "python",
   "name": "python3"
  },
  "language_info": {
   "codemirror_mode": {
    "name": "ipython",
    "version": 3
   },
   "file_extension": ".py",
   "mimetype": "text/x-python",
   "name": "python",
   "nbconvert_exporter": "python",
   "pygments_lexer": "ipython3",
   "version": "3.10.4"
  },
  "orig_nbformat": 4,
  "vscode": {
   "interpreter": {
    "hash": "3ad933181bd8a04b432d3370b9dc3b0662ad032c4dfaa4e4f1596c548f763858"
   }
  }
 },
 "nbformat": 4,
 "nbformat_minor": 2
}
